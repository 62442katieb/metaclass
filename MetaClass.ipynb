{
 "cells": [
  {
   "cell_type": "markdown",
   "metadata": {},
   "source": [
    "Central questions: can classifiers be trained using neuroimaging meta-analysis data (i.e., coordinates, modeled activation maps, etc.). \n",
    "Goals: [1] train classifier using coordinates/modeled activation maps, [2]..."
   ]
  },
  {
   "cell_type": "code",
   "execution_count": 1,
   "metadata": {},
   "outputs": [],
   "source": [
    "# Import libraries and packages.\n",
    "import pandas as pd\n",
    "import numpy as np\n",
    "import sklearn as skl\n",
    "import glob\n",
    "import datetime; today = datetime.date.today()\n",
    "from nimare.io import convert_sleuth_to_dataset\n",
    "from nimare.meta.cbma.kernel import ALEKernel"
   ]
  },
  {
   "cell_type": "code",
   "execution_count": 2,
   "metadata": {},
   "outputs": [
    {
     "name": "stdout",
     "output_type": "stream",
     "text": [
      "constructs to model = 8\n"
     ]
    }
   ],
   "source": [
    "# Select directories and files structure.\n",
    "input_prefix = str(today)\n",
    "output_prefix = str(today)\n",
    "in_dir = '/Users/julioyanes/Dropbox/pain-meta/hack/constructs'\n",
    "out_dir = '/Users/julioyanes/Dropbox/pain-meta/hack/out_dir'\n",
    "template = '/Users/julioyanes/Dropbox/_Yanes/Publications/_MANUSCRIPT_Yanes_Pain_Clustering/Analyses/colin_MNI_2x2x2.nii'\n",
    "paths = glob.glob(\"/Users/julioyanes/Dropbox/pain-meta/hack/constructs/*.txt\")\n",
    "print('constructs to model = {0}'.format(len(paths)))"
   ]
  },
  {
   "cell_type": "code",
   "execution_count": 3,
   "metadata": {},
   "outputs": [
    {
     "name": "stdout",
     "output_type": "stream",
     "text": [
      "/Users/julioyanes/Dropbox/pain-meta/hack/constructs/psolving.txt\n",
      "/Users/julioyanes/Dropbox/pain-meta/hack/constructs/films.txt\n",
      "/Users/julioyanes/Dropbox/pain-meta/hack/constructs/delayed.txt\n",
      "/Users/julioyanes/Dropbox/pain-meta/hack/constructs/reward.txt\n",
      "/Users/julioyanes/Dropbox/pain-meta/hack/constructs/emotion.txt\n",
      "/Users/julioyanes/Dropbox/pain-meta/hack/constructs/tmind.txt\n",
      "/Users/julioyanes/Dropbox/pain-meta/hack/constructs/stroop.txt\n",
      "/Users/julioyanes/Dropbox/pain-meta/hack/constructs/nback.txt\n"
     ]
    }
   ],
   "source": [
    "# Convert coordinates to nimare dataset. DOES NOT WORK!\n",
    "datas = {}\n",
    "for path in paths:  \n",
    "    print(path)\n",
    "    datas[path[len(in_dir)+1:-4]] = convert_sleuth_to_dataset(path)"
   ]
  },
  {
   "cell_type": "code",
   "execution_count": 4,
   "metadata": {},
   "outputs": [
    {
     "data": {
      "text/plain": [
       "dict_keys(['psolving', 'films', 'delayed', 'reward', 'emotion', 'tmind', 'stroop', 'nback'])"
      ]
     },
     "execution_count": 4,
     "metadata": {},
     "output_type": "execute_result"
    }
   ],
   "source": [
    "datas.keys() # Confirm construct keys."
   ]
  },
  {
   "cell_type": "code",
   "execution_count": 5,
   "metadata": {},
   "outputs": [
    {
     "name": "stdout",
     "output_type": "stream",
     "text": [
      "MA maps making...\t\t@2019-08-07 11:24:59.389338\n",
      "MA maps done!\t\t\t@2019-08-07 11:25:33.658555\n"
     ]
    }
   ],
   "source": [
    "# Make modeled activation (MA) maps.\n",
    "print('MA maps making...\\t\\t@{0}'.format(str(datetime.datetime.now())))\n",
    "ma_maps_arrs = {}\n",
    "for data in datas.keys():\n",
    "    kern = ALEKernel()\n",
    "    ma_maps = kern.transform(datas[data]) # Compute MA maps (len = ???)\n",
    "    ma_maps_arrs[data] = []\n",
    "    for i in np.arange(0, len(ma_maps)):\n",
    "        ma_maps_arrs[data].append(np.ravel(ma_maps[i].get_data(), order='C'))\n",
    "    labels = pd.DataFrame(index=datas[data].ids)\n",
    "print('MA maps done!\\t\\t\\t@{0}'.format(str(datetime.datetime.now())))\n",
    "#print('MA maps = {0}'.format(len(ma_maps_arr)))\n",
    "#print('MA maps shape = {0}'.format(ma_maps_array.shape))\n",
    "\n"
   ]
  },
  {
   "cell_type": "code",
   "execution_count": 6,
   "metadata": {},
   "outputs": [],
   "source": [
    "keys = list(datas.keys())\n",
    "dataframes = {}\n",
    "key = {}\n",
    "for i in np.arange(0,len(keys)):\n",
    "    key[keys[i]] = i\n",
    "    arr = np.asarray(ma_maps_arrs[keys[i]])\n",
    "    dataframes[i] = pd.DataFrame(arr)\n",
    "    dataframes[i]['y'] = i"
   ]
  },
  {
   "cell_type": "code",
   "execution_count": 8,
   "metadata": {},
   "outputs": [],
   "source": [
    "all_data = pd.concat([dataframes[0], dataframes[1],\n",
    "                      dataframes[2], dataframes[3],\n",
    "                      dataframes[4], dataframes[5],\n",
    "                      dataframes[6], dataframes[7]])"
   ]
  },
  {
   "cell_type": "code",
   "execution_count": 9,
   "metadata": {},
   "outputs": [
    {
     "data": {
      "text/plain": [
       "Int64Index([  0,   1,   2,   3,   4,   5,   6,   7,   8,   9,\n",
       "            ...\n",
       "            277, 278, 279, 280, 281, 282, 283, 284, 285, 286],\n",
       "           dtype='int64', length=2969)"
      ]
     },
     "execution_count": 9,
     "metadata": {},
     "output_type": "execute_result"
    }
   ],
   "source": [
    "all_data.index"
   ]
  },
  {
   "cell_type": "code",
   "execution_count": 11,
   "metadata": {},
   "outputs": [
    {
     "data": {
      "text/plain": [
       "{'psolving': 0,\n",
       " 'films': 1,\n",
       " 'delayed': 2,\n",
       " 'reward': 3,\n",
       " 'emotion': 4,\n",
       " 'tmind': 5,\n",
       " 'stroop': 6,\n",
       " 'nback': 7}"
      ]
     },
     "execution_count": 11,
     "metadata": {},
     "output_type": "execute_result"
    }
   ],
   "source": [
    "#all_data"
   ]
  },
  {
   "cell_type": "code",
   "execution_count": null,
   "metadata": {},
   "outputs": [],
   "source": []
  },
  {
   "cell_type": "code",
   "execution_count": null,
   "metadata": {},
   "outputs": [],
   "source": []
  },
  {
   "cell_type": "code",
   "execution_count": null,
   "metadata": {},
   "outputs": [],
   "source": []
  }
 ],
 "metadata": {
  "kernelspec": {
   "display_name": "Python 3",
   "language": "python",
   "name": "python3"
  },
  "language_info": {
   "codemirror_mode": {
    "name": "ipython",
    "version": 3
   },
   "file_extension": ".py",
   "mimetype": "text/x-python",
   "name": "python",
   "nbconvert_exporter": "python",
   "pygments_lexer": "ipython3",
   "version": "3.7.1"
  }
 },
 "nbformat": 4,
 "nbformat_minor": 2
}
